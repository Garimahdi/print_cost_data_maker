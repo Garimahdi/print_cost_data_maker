{
 "cells": [
  {
   "cell_type": "code",
   "execution_count": 1,
   "id": "f1aae830",
   "metadata": {},
   "outputs": [],
   "source": [
    "import pandas as pd\n",
    "import numpy as np"
   ]
  },
  {
   "cell_type": "code",
   "execution_count": 2,
   "id": "e433c267",
   "metadata": {},
   "outputs": [
    {
     "name": "stdout",
     "output_type": "stream",
     "text": [
      "<class 'pandas.core.frame.DataFrame'>\n",
      "RangeIndex: 0 entries\n",
      "Data columns (total 7 columns):\n",
      " #   Column       Non-Null Count  Dtype \n",
      "---  ------       --------------  ----- \n",
      " 0   Device       0 non-null      object\n",
      " 1   Speed        0 non-null      object\n",
      " 2   Posisi       0 non-null      object\n",
      " 3   Banyak User  0 non-null      object\n",
      " 4   MOP          0 non-null      object\n",
      " 5   Yield BW     0 non-null      object\n",
      " 6   Yield CLR    0 non-null      object\n",
      "dtypes: object(7)\n",
      "memory usage: 132.0+ bytes\n",
      "None\n"
     ]
    }
   ],
   "source": [
    "devList = pd.DataFrame(columns=['Device','Speed','Posisi','Banyak User','MOP','Yield BW','Yield CLR'])\n",
    "dlc = list(devList.columns)\n",
    "print(devList.info())"
   ]
  },
  {
   "cell_type": "code",
   "execution_count": null,
   "id": "b677ebe5",
   "metadata": {},
   "outputs": [],
   "source": []
  },
  {
   "cell_type": "code",
   "execution_count": null,
   "id": "d7a534ef",
   "metadata": {},
   "outputs": [],
   "source": [
    "device = []\n",
    "speed = []\n",
    "posisi = []\n",
    "banyakUser = []\n",
    "mop = []\n",
    "yieldBw = []\n",
    "yieldClr = []"
   ]
  },
  {
   "cell_type": "code",
   "execution_count": null,
   "id": "c88f2a9e",
   "metadata": {},
   "outputs": [],
   "source": [
    "# Insert device name\n",
    "while True:\n",
    "    a = str(input('Device: '))\n",
    "    device.append(a)\n",
    "    if a == 's':\n",
    "        device.pop(len(device)-1)\n",
    "        break\n",
    "\n",
    "# Insert device speed\n",
    "while True:\n",
    "    b = int(input('Speed: '))\n",
    "    speed.append(b)\n",
    "    if b == 99999:\n",
    "        speed.pop(len(speed)-1)\n",
    "        break\n",
    "\n",
    "# Insert device position\n",
    "while True:\n",
    "    c = input('Posisi: ')\n",
    "    posisi.append(c)\n",
    "    if c == 's':\n",
    "        posisi.pop(len(posisi)-1)\n",
    "        break\n",
    "\n",
    "# Insert user quantity\n",
    "while True:\n",
    "    d = int(input('Qty user: '))\n",
    "    banyakUser.append(d)\n",
    "    if d == 99999:\n",
    "        banyakUser.pop(len(banyakUser)-1)\n",
    "        break\n",
    "\n",
    "# Insert MOP on each machine\n",
    "while True:\n",
    "    e = int(input('MOP: '))\n",
    "    mop.append(e)\n",
    "    if e == 99999:\n",
    "        mop.pop(len(mop)-1)\n",
    "        break\n",
    "\n",
    "# Insert BW toner yield\n",
    "while True:\n",
    "    f = int(input('Yield BW: '))\n",
    "    yieldBw.append(f)\n",
    "    if f == 99999:\n",
    "        yieldBw.pop(len(yieldBw)-1)\n",
    "        break\n",
    "\n",
    "# Insert CLR toner yield\n",
    "while True:\n",
    "    g = int(input('Yield CLR: '))\n",
    "    yieldClr.append(g)\n",
    "    if g == 99999:\n",
    "        yieldClr.pop(len(yieldClr)-1)\n",
    "        break"
   ]
  },
  {
   "cell_type": "code",
   "execution_count": null,
   "id": "ec189c30",
   "metadata": {},
   "outputs": [],
   "source": [
    "print('Device array: ',device)\n",
    "print('Speed array: ',speed)\n",
    "print('Position array: ',posisi)\n",
    "print('User array: ',banyakUser)\n",
    "print('MOP array: ',mop)\n",
    "print('BW yield array: ',yieldBw)\n",
    "print('CLR yield array: ',yieldClr)"
   ]
  },
  {
   "cell_type": "code",
   "execution_count": null,
   "id": "3c360600",
   "metadata": {},
   "outputs": [],
   "source": [
    "devList[dlc[0]] = device\n",
    "devList[dlc[1]] = speed\n",
    "devList[dlc[2]] = posisi\n",
    "devList[dlc[3]] = banyakUser\n",
    "devList[dlc[4]] = mop\n",
    "devList[dlc[5]] = yieldBw\n",
    "devList[dlc[6]] = yieldClr"
   ]
  },
  {
   "cell_type": "code",
   "execution_count": null,
   "id": "631b3a23",
   "metadata": {},
   "outputs": [],
   "source": [
    "devList"
   ]
  }
 ],
 "metadata": {
  "kernelspec": {
   "display_name": "Python 3 (ipykernel)",
   "language": "python",
   "name": "python3"
  },
  "language_info": {
   "codemirror_mode": {
    "name": "ipython",
    "version": 3
   },
   "file_extension": ".py",
   "mimetype": "text/x-python",
   "name": "python",
   "nbconvert_exporter": "python",
   "pygments_lexer": "ipython3",
   "version": "3.11.5"
  }
 },
 "nbformat": 4,
 "nbformat_minor": 5
}
