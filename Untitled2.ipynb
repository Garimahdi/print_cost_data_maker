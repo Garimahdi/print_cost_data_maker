{
 "cells": [
  {
   "cell_type": "code",
   "execution_count": 1,
   "id": "0d5c6ed9",
   "metadata": {},
   "outputs": [],
   "source": [
    "import pandas as pd\n",
    "import numpy as np"
   ]
  },
  {
   "cell_type": "code",
   "execution_count": 135,
   "id": "35ddd726",
   "metadata": {},
   "outputs": [
    {
     "name": "stdout",
     "output_type": "stream",
     "text": [
      "Empty DataFrame\n",
      "Columns: [Device, Speed, Posisi, Banyak User, MOP, Yield BW, Yield CLR]\n",
      "Index: []\n"
     ]
    }
   ],
   "source": [
    "devList = pd.DataFrame(columns=['Device','Speed','Posisi','Banyak User','MOP','Yield BW','Yield CLR'])\n",
    "print(devList)\n",
    "dlc = list(devList.columns)"
   ]
  },
  {
   "cell_type": "code",
   "execution_count": 114,
   "id": "c57c0e02",
   "metadata": {},
   "outputs": [],
   "source": [
    "device = []\n",
    "speed = []\n",
    "posisi = []\n",
    "banyakUser = []\n",
    "mop = []\n",
    "yieldBw = []\n",
    "yieldClr = []"
   ]
  },
  {
   "cell_type": "code",
   "execution_count": 122,
   "id": "dc1df81d",
   "metadata": {},
   "outputs": [
    {
     "name": "stdout",
     "output_type": "stream",
     "text": [
      "Device: ff\n",
      "Device: s\n"
     ]
    }
   ],
   "source": [
    "while True:\n",
    "    a = str(input('Device: '))\n",
    "    device.append(a)\n",
    "    if a == 's':\n",
    "        device.pop(len(device)-1)\n",
    "        break"
   ]
  },
  {
   "cell_type": "code",
   "execution_count": 123,
   "id": "d1d8c6b1",
   "metadata": {},
   "outputs": [
    {
     "name": "stdout",
     "output_type": "stream",
     "text": [
      "Speed: 75\n",
      "Speed: 99999\n"
     ]
    }
   ],
   "source": [
    "while True:\n",
    "    b = int(input('Speed: '))\n",
    "    speed.append(b)\n",
    "    if b == 99999:\n",
    "        speed.pop(len(speed)-1)\n",
    "        break"
   ]
  },
  {
   "cell_type": "code",
   "execution_count": 124,
   "id": "bd6ca89a",
   "metadata": {},
   "outputs": [
    {
     "name": "stdout",
     "output_type": "stream",
     "text": [
      "Posisi: Higashi\n",
      "Posisi: s\n"
     ]
    }
   ],
   "source": [
    "while True:\n",
    "    c = input('Posisi: ')\n",
    "    posisi.append(c)\n",
    "    if c == 's':\n",
    "        posisi.pop(len(posisi)-1)\n",
    "        break"
   ]
  },
  {
   "cell_type": "code",
   "execution_count": 125,
   "id": "3021fdb9",
   "metadata": {},
   "outputs": [
    {
     "name": "stdout",
     "output_type": "stream",
     "text": [
      "Qty user: 500\n",
      "Qty user: 99999\n"
     ]
    }
   ],
   "source": [
    "while True:\n",
    "    d = int(input('Qty user: '))\n",
    "    banyakUser.append(d)\n",
    "    if d == 99999:\n",
    "        banyakUser.pop(len(banyakUser)-1)\n",
    "        break"
   ]
  },
  {
   "cell_type": "code",
   "execution_count": 126,
   "id": "d0b2f909",
   "metadata": {},
   "outputs": [
    {
     "name": "stdout",
     "output_type": "stream",
     "text": [
      "MOP: 356\n",
      "MOP: 99999\n"
     ]
    }
   ],
   "source": [
    "while True:\n",
    "    e = int(input('MOP: '))\n",
    "    mop.append(e)\n",
    "    if e == 99999:\n",
    "        mop.pop(len(mop)-1)\n",
    "        break"
   ]
  },
  {
   "cell_type": "code",
   "execution_count": 127,
   "id": "47f64d82",
   "metadata": {},
   "outputs": [
    {
     "name": "stdout",
     "output_type": "stream",
     "text": [
      "Yield BW: 7500\n",
      "Yield BW: 99999\n"
     ]
    }
   ],
   "source": [
    "while True:\n",
    "    f = int(input('Yield BW: '))\n",
    "    yieldBw.append(f)\n",
    "    if f == 99999:\n",
    "        yieldBw.pop(len(yieldBw)-1)\n",
    "        break"
   ]
  },
  {
   "cell_type": "code",
   "execution_count": 128,
   "id": "b352c17b",
   "metadata": {},
   "outputs": [
    {
     "name": "stdout",
     "output_type": "stream",
     "text": [
      "Yield CLR: 8000\n",
      "Yield CLR: 99999\n"
     ]
    }
   ],
   "source": [
    "while True:\n",
    "    g = int(input('Yield CLR: '))\n",
    "    yieldClr.append(g)\n",
    "    if g == 99999:\n",
    "        yieldClr.pop(len(yieldClr)-1)\n",
    "        break"
   ]
  },
  {
   "cell_type": "code",
   "execution_count": 133,
   "id": "d60fb2f4",
   "metadata": {},
   "outputs": [
    {
     "name": "stdout",
     "output_type": "stream",
     "text": [
      "['fx', 'ff']\n"
     ]
    }
   ],
   "source": [
    "print(device)"
   ]
  },
  {
   "cell_type": "code",
   "execution_count": 144,
   "id": "dae94383",
   "metadata": {},
   "outputs": [
    {
     "name": "stdout",
     "output_type": "stream",
     "text": [
      "<class 'pandas.core.frame.DataFrame'>\n",
      "RangeIndex: 2 entries, 0 to 1\n",
      "Data columns (total 7 columns):\n",
      " #   Column       Non-Null Count  Dtype \n",
      "---  ------       --------------  ----- \n",
      " 0   Device       2 non-null      object\n",
      " 1   Speed        2 non-null      int64 \n",
      " 2   Posisi       2 non-null      object\n",
      " 3   Banyak User  2 non-null      int64 \n",
      " 4   MOP          2 non-null      int64 \n",
      " 5   Yield BW     2 non-null      int64 \n",
      " 6   Yield CLR    2 non-null      int64 \n",
      "dtypes: int64(5), object(2)\n",
      "memory usage: 244.0+ bytes\n",
      "None\n"
     ]
    }
   ],
   "source": [
    "devList[dlc[0]] = device\n",
    "devList[dlc[1]] = speed\n",
    "devList[dlc[2]] = posisi\n",
    "devList[dlc[3]] = banyakUser\n",
    "devList[dlc[4]] = mop\n",
    "devList[dlc[5]] = yieldBw\n",
    "devList[dlc[6]] = yieldClr\n",
    "print(devList.info())"
   ]
  },
  {
   "cell_type": "code",
   "execution_count": null,
   "id": "9b8012d8",
   "metadata": {},
   "outputs": [],
   "source": [
    "while True:\n",
    "    a = str(input('Device: '))\n",
    "    device.append(a)\n",
    "    if a == 's':\n",
    "        device.pop(len(device)-1)\n",
    "        break\n",
    "\n",
    "while True:\n",
    "    b = int(input('Speed: '))\n",
    "    speed.append(b)\n",
    "    if b == 99999:\n",
    "        speed.pop(len(speed)-1)\n",
    "        break\n",
    "        \n",
    "while True:\n",
    "    c = input('Posisi: ')\n",
    "    posisi.append(c)\n",
    "    if c == 's':\n",
    "        posisi.pop(len(posisi)-1)\n",
    "        break\n",
    "        \n",
    "while True:\n",
    "    d = int(input('Qty user: '))\n",
    "    banyakUser.append(d)\n",
    "    if d == 99999:\n",
    "        banyakUser.pop(len(banyakUser)-1)\n",
    "        break\n",
    "        \n",
    "while True:\n",
    "    e = int(input('MOP: '))\n",
    "    mop.append(e)\n",
    "    if e == 99999:\n",
    "        mop.pop(len(mop)-1)\n",
    "        break\n",
    "        \n",
    "while True:\n",
    "    f = int(input('Yield BW: '))\n",
    "    yieldBw.append(f)\n",
    "    if f == 99999:\n",
    "        yieldBw.pop(len(yieldBw)-1)\n",
    "        break\n",
    "        \n",
    "while True:\n",
    "    g = int(input('Yield CLR: '))\n",
    "    yieldClr.append(g)\n",
    "    if g == 99999:\n",
    "        yieldClr.pop(len(yieldClr)-1)\n",
    "        break"
   ]
  }
 ],
 "metadata": {
  "kernelspec": {
   "display_name": "Python 3 (ipykernel)",
   "language": "python",
   "name": "python3"
  },
  "language_info": {
   "codemirror_mode": {
    "name": "ipython",
    "version": 3
   },
   "file_extension": ".py",
   "mimetype": "text/x-python",
   "name": "python",
   "nbconvert_exporter": "python",
   "pygments_lexer": "ipython3",
   "version": "3.11.5"
  }
 },
 "nbformat": 4,
 "nbformat_minor": 5
}
